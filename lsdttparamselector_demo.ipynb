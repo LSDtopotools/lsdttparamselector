{
 "cells": [
  {
   "cell_type": "markdown",
   "metadata": {},
   "source": [
    "# Basic usage of the parameter selector"
   ]
  },
  {
   "cell_type": "code",
   "execution_count": 1,
   "metadata": {},
   "outputs": [],
   "source": [
    "import lsdttparamselector as ps"
   ]
  },
  {
   "cell_type": "markdown",
   "metadata": {},
   "source": [
    "First create a parameter selector object. It defaults to using the `lsdtt-basic-metrics` command line tool but in the future you can use the different command line tools. "
   ]
  },
  {
   "cell_type": "code",
   "execution_count": 2,
   "metadata": {},
   "outputs": [
    {
     "name": "stdout",
     "output_type": "stream",
     "text": [
      "You have selected the command line tool: lsdtt-basic-metrics\n",
      "I am creating a lsdtt-basic-metrics input menu\n",
      "The dictionary contains\n",
      "======================================================================================\n",
      "Okay, your input widget is initiated. Call grab_widget to start entering parameters.\n",
      "When you have finished, run the read_widgets tool.\n",
      "This will give you a dictionary that can be passed to an lsdtt_driver object .\n",
      "======================================================================================\n"
     ]
    }
   ],
   "source": [
    "param = ps.lsdttdm()"
   ]
  },
  {
   "cell_type": "markdown",
   "metadata": {},
   "source": [
    "Now create a widget, and enter the widget's name to display all the parameter options. "
   ]
  },
  {
   "cell_type": "code",
   "execution_count": 3,
   "metadata": {},
   "outputs": [
    {
     "data": {
      "application/vnd.jupyter.widget-view+json": {
       "model_id": "f7962ba0ae70484b8d1b698d4f978a10",
       "version_major": 2,
       "version_minor": 0
      },
      "text/plain": [
       "Tab(children=(Accordion(children=(VBox(children=(BoundedFloatText(value=0.0, description='minimum_elevation:',…"
      ]
     },
     "metadata": {},
     "output_type": "display_data"
    }
   ],
   "source": [
    "tab_nest = param.make_widget()\n",
    "tab_nest"
   ]
  },
  {
   "cell_type": "markdown",
   "metadata": {},
   "source": [
    "Once you are happy with the paramters, you want to export these to a dictionary. This dictionary can then be exported to the `lsdviztools` object `lsdtt_driver`. "
   ]
  },
  {
   "cell_type": "code",
   "execution_count": 4,
   "metadata": {},
   "outputs": [
    {
     "name": "stdout",
     "output_type": "stream",
     "text": [
      "{'minimum_elevation': '0.0', 'maximum_elevation': '30000.0', 'min_slope_for_fill': '0.0001', 'raster_is_filled': 'false', 'remove_seas': 'true', 'carve_before_fill': 'false', 'only_check_parameters': 'false', 'write_hillshade': 'false', 'print_raster_without_seas': 'false', 'print_distance_from_outlet': 'false', 'print_fill_raster': 'false', 'print_relief_raster': 'false', 'relief_window': '200.0', 'remove_nodes_influenced_by_edge': 'false', 'isolate_pixels_draining_to_fixed_channel': 'false', 'fixed_channel_csv_name': 'single_channel_nodes', 'print_trimmed_raster': 'false', 'trimming_buffer_pixels': '0', 'calculate_window_size': 'false', 'surface_fitting_radius': '30.0', 'print_slope': 'false', 'print_aspect': 'false', 'print_curvature': 'false', 'print_planform_curvature': 'false', 'print_profile_curvature': 'false', 'print_tangential_curvature': 'false', 'print_point_classification': 'false', 'print_directional_gradients': 'false', 'calculate_basin_statistics': 'false', 'print_REI_raster': 'false', 'REI_window_radius': '10.0', 'REI_critical_slope': '1.0', 'print_roughness_rasters': 'false', 'roughness_radius': '3.0', 'print_dinf_drainage_area_raster': 'false', 'print_d8_drainage_area_raster': 'false', 'print_QuinnMD_drainage_area_raster': 'false', 'print_FreemanMD_drainage_area_raster': 'false', 'print_MD_drainage_area_raster': 'false'}\n"
     ]
    }
   ],
   "source": [
    "parameter_dict = param.read_widgets()\n",
    "print(parameter_dict)"
   ]
  },
  {
   "cell_type": "code",
   "execution_count": null,
   "metadata": {},
   "outputs": [],
   "source": []
  }
 ],
 "metadata": {
  "kernelspec": {
   "display_name": "Python 3",
   "language": "python",
   "name": "python3"
  },
  "language_info": {
   "codemirror_mode": {
    "name": "ipython",
    "version": 3
   },
   "file_extension": ".py",
   "mimetype": "text/x-python",
   "name": "python",
   "nbconvert_exporter": "python",
   "pygments_lexer": "ipython3",
   "version": "3.8.3"
  }
 },
 "nbformat": 4,
 "nbformat_minor": 4
}
